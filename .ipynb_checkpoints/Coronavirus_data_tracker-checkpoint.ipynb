{
 "cells": [
  {
   "cell_type": "code",
   "execution_count": 64,
   "metadata": {
    "ExecuteTime": {
     "end_time": "2020-03-09T15:47:09.692295Z",
     "start_time": "2020-03-09T15:47:09.689065Z"
    }
   },
   "outputs": [],
   "source": [
    "import pandas as pd\n",
    "import numpy as np\n",
    "from datetime import datetime\n",
    "from selenium import webdriver\n",
    "import json\n",
    "import string\n",
    "import matplotlib.pyplot as plt"
   ]
  },
  {
   "cell_type": "code",
   "execution_count": 46,
   "metadata": {
    "ExecuteTime": {
     "end_time": "2020-03-09T15:43:57.421633Z",
     "start_time": "2020-03-09T15:43:55.701634Z"
    }
   },
   "outputs": [],
   "source": [
    "driver = webdriver.Chrome('/Users/joelcollins/Documents/web_driver/chromedriver')"
   ]
  },
  {
   "cell_type": "code",
   "execution_count": 47,
   "metadata": {
    "ExecuteTime": {
     "end_time": "2020-03-09T15:43:57.895730Z",
     "start_time": "2020-03-09T15:43:57.423321Z"
    }
   },
   "outputs": [],
   "source": [
    "driver.get('https://docs.google.com/spreadsheets/d/18oVRrHj3c183mHmq3m89_163yuYltLNlOmPerQ18E8w/htmlview?sle=true#')"
   ]
  },
  {
   "cell_type": "code",
   "execution_count": 48,
   "metadata": {
    "ExecuteTime": {
     "end_time": "2020-03-09T15:44:00.376092Z",
     "start_time": "2020-03-09T15:44:00.316856Z"
    }
   },
   "outputs": [],
   "source": [
    "driver.find_element_by_partial_link_text('States daily').click()"
   ]
  },
  {
   "cell_type": "code",
   "execution_count": 49,
   "metadata": {
    "ExecuteTime": {
     "end_time": "2020-03-09T15:44:01.647281Z",
     "start_time": "2020-03-09T15:44:01.586376Z"
    }
   },
   "outputs": [],
   "source": [
    "table = driver.find_element_by_xpath('//*[@id=\"916628299\"]/div/table/tbody')\n",
    "\n",
    "rows = table.find_elements_by_tag_name('tr')\n",
    "\n",
    "len(rows)\n",
    "\n",
    "columns = rows[0].find_elements_by_tag_name('td')\n",
    "\n",
    "rows = rows[2:]"
   ]
  },
  {
   "cell_type": "code",
   "execution_count": 50,
   "metadata": {
    "ExecuteTime": {
     "end_time": "2020-03-09T15:44:20.094044Z",
     "start_time": "2020-03-09T15:44:03.094288Z"
    }
   },
   "outputs": [],
   "source": [
    "with open('coronavirus.json') as f:\n",
    "    data = json.load(f)\n",
    "    state = data['state']\n",
    "    current_date = rows[3].find_elements_by_tag_name('td')[0].text\n",
    "    if current_date in state['Date']:\n",
    "        df = pd.DataFrame(state)\n",
    "        df = df[df.Date != current_date]\n",
    "        \n",
    "        state['Date'] = df.Date.tolist()\n",
    "        state['State'] = df.State.tolist()\n",
    "        state['Positive'] = df.Positive.tolist()\n",
    "        state['Negative'] = df.Negative.tolist()\n",
    "        state['Pending'] = df.Pending.tolist()\n",
    "        state['Total'] = df.Total.tolist()\n",
    "        \n",
    "    for row in rows:\n",
    "        cells = row.find_elements_by_tag_name('td')\n",
    "\n",
    "        date = cells[0].text\n",
    "        state_= cells[1].text\n",
    "        positive = cells[2].text\n",
    "        negative = cells[3].text\n",
    "        pending = cells[4].text\n",
    "        total = cells[5].text\n",
    "\n",
    "        state['Date'].append(date)\n",
    "        state['State'].append(state_)\n",
    "        state['Positive'].append(positive)\n",
    "        state['Negative'].append(negative)\n",
    "        state['Pending'].append(pending)\n",
    "        state['Total'].append(total)\n",
    "\n",
    "with open('coronavirus.json', mode='w', encoding='utf-8') as f:\n",
    "    json.dump(data, f)"
   ]
  },
  {
   "cell_type": "code",
   "execution_count": 65,
   "metadata": {
    "ExecuteTime": {
     "end_time": "2020-03-09T15:47:31.169943Z",
     "start_time": "2020-03-09T15:47:31.166448Z"
    }
   },
   "outputs": [],
   "source": [
    "with open('coronavirus.json') as f:\n",
    "    data = json.load(f)\n",
    "    state = data['state']"
   ]
  },
  {
   "cell_type": "code",
   "execution_count": 66,
   "metadata": {
    "ExecuteTime": {
     "end_time": "2020-03-09T15:47:31.759586Z",
     "start_time": "2020-03-09T15:47:31.756974Z"
    }
   },
   "outputs": [],
   "source": [
    "import pandas as pd"
   ]
  },
  {
   "cell_type": "code",
   "execution_count": 91,
   "metadata": {
    "ExecuteTime": {
     "end_time": "2020-03-09T15:53:06.219077Z",
     "start_time": "2020-03-09T15:53:06.215247Z"
    }
   },
   "outputs": [],
   "source": [
    "df = pd.DataFrame(state)"
   ]
  },
  {
   "cell_type": "code",
   "execution_count": 92,
   "metadata": {
    "ExecuteTime": {
     "end_time": "2020-03-09T15:53:06.732063Z",
     "start_time": "2020-03-09T15:53:06.726463Z"
    }
   },
   "outputs": [],
   "source": [
    "df = df.set_index('Date')\n",
    "df.index = pd.to_datetime(df.index)"
   ]
  },
  {
   "cell_type": "code",
   "execution_count": 93,
   "metadata": {
    "ExecuteTime": {
     "end_time": "2020-03-09T15:53:07.216631Z",
     "start_time": "2020-03-09T15:53:07.208613Z"
    }
   },
   "outputs": [],
   "source": [
    "for column in df.columns:\n",
    "    df[column] = df[column].apply(lambda x: x.translate(str.maketrans('', '', string.punctuation)))"
   ]
  },
  {
   "cell_type": "code",
   "execution_count": 94,
   "metadata": {
    "ExecuteTime": {
     "end_time": "2020-03-09T15:53:07.809923Z",
     "start_time": "2020-03-09T15:53:07.788350Z"
    }
   },
   "outputs": [],
   "source": [
    "df = df.replace('', np.nan)\n",
    "\n",
    "columns = df.columns\n",
    "\n",
    "columns = columns.drop('State')\n",
    "\n",
    "for column in columns:\n",
    "    df[column] = df[column].astype(float)\n",
    "\n",
    "grouped = df.groupby(pd.Grouper(freq='D')).sum()\n",
    "\n",
    "collected = []\n",
    "for idx in grouped.index.unique():\n",
    "    day = df.loc[idx]\n",
    "    count = len(day[day.Positive > 0])\n",
    "    collected.append(count)\n",
    "\n",
    "collected\n",
    "\n",
    "grouped['state_count'] = collected\n"
   ]
  },
  {
   "cell_type": "code",
   "execution_count": 96,
   "metadata": {
    "ExecuteTime": {
     "end_time": "2020-03-09T15:53:19.891654Z",
     "start_time": "2020-03-09T15:53:19.883903Z"
    }
   },
   "outputs": [],
   "source": [
    "data['daily_summary']['Date'] = ['{}/{}/{}'.format(x.month,x.day, x.year) for x in grouped.index]\n",
    "data['daily_summary']['Positive'] = grouped.Positive.tolist()\n",
    "data['daily_summary']['Negative'] = grouped.Negative.tolist()\n",
    "data['daily_summary']['Pending'] = grouped.Pending.tolist()\n",
    "data['daily_summary']['Total'] = grouped.Total.tolist()\n",
    "data['daily_summary']['Confirmed States'] = grouped.state_count.tolist()\n",
    "\n",
    "with open('coronavirus.json', mode='w', encoding='utf-8') as f:\n",
    "    json.dump(data, f)"
   ]
  },
  {
   "cell_type": "code",
   "execution_count": 97,
   "metadata": {
    "ExecuteTime": {
     "end_time": "2020-03-09T15:53:22.813543Z",
     "start_time": "2020-03-09T15:53:22.600793Z"
    }
   },
   "outputs": [
    {
     "data": {
      "image/png": "[encoded data removed]",
      "text/plain": [
       "<Figure size 432x288 with 1 Axes>"
      ]
     },
     "metadata": {
      "needs_background": "light"
     },
     "output_type": "display_data"
    }
   ],
   "source": [
    "with open('coronavirus.json') as f:\n",
    "    plotting = json.load(f)\n",
    "\n",
    "plotting = pd.DataFrame(plotting['daily_summary'])\n",
    "\n",
    "plotting.set_index('Date', drop = True, inplace = True)\n",
    "\n",
    "xaxis = plotting.index\n",
    "\n",
    "plt.plot(xaxis, plotting.Positive.values, label = 'Positive')\n",
    "plt.title('Positive Test Results COVID-19');\n"
   ]
  },
  {
   "cell_type": "code",
   "execution_count": null,
   "metadata": {},
   "outputs": [],
   "source": []
  }
 ],
 "metadata": {
  "hide_input": false,
  "kernelspec": {
   "display_name": "Python 3",
   "language": "python",
   "name": "python3"
  },
  "language_info": {
   "codemirror_mode": {
    "name": "ipython",
    "version": 3
   },
   "file_extension": ".py",
   "mimetype": "text/x-python",
   "name": "python",
   "nbconvert_exporter": "python",
   "pygments_lexer": "ipython3",
   "version": "3.7.4"
  },
  "toc": {
   "base_numbering": 1,
   "nav_menu": {},
   "number_sections": false,
   "sideBar": true,
   "skip_h1_title": true,
   "title_cell": "Table of Contents",
   "title_sidebar": "Contents",
   "toc_cell": false,
   "toc_position": {},
   "toc_section_display": true,
   "toc_window_display": false
  },
  "varInspector": {
   "cols": {
    "lenName": 16,
    "lenType": 16,
    "lenVar": 40
   },
   "kernels_config": {
    "python": {
     "delete_cmd_postfix": "",
     "delete_cmd_prefix": "del ",
     "library": "var_list.py",
     "varRefreshCmd": "print(var_dic_list())"
    },
    "r": {
     "delete_cmd_postfix": ") ",
     "delete_cmd_prefix": "rm(",
     "library": "var_list.r",
     "varRefreshCmd": "cat(var_dic_list()) "
    }
   },
   "types_to_exclude": [
    "module",
    "function",
    "builtin_function_or_method",
    "instance",
    "_Feature"
   ],
   "window_display": false
  }
 },
 "nbformat": 4,
 "nbformat_minor": 2
}
