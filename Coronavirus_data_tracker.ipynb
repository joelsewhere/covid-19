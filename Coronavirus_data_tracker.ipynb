{
 "cells": [
  {
   "cell_type": "code",
   "execution_count": 347,
   "metadata": {
    "ExecuteTime": {
     "end_time": "2020-03-09T02:47:27.791322Z",
     "start_time": "2020-03-09T02:47:27.786824Z"
    }
   },
   "outputs": [],
   "source": [
    "import pandas as pd\n",
    "import numpy\n",
    "from datetime import datetime\n",
    "from selenium import webdriver\n",
    "\n",
    "import matplotlib.pyplot as plt"
   ]
  },
  {
   "cell_type": "code",
   "execution_count": 348,
   "metadata": {
    "ExecuteTime": {
     "end_time": "2020-03-09T02:47:33.709184Z",
     "start_time": "2020-03-09T02:47:29.459335Z"
    }
   },
   "outputs": [],
   "source": [
    "driver = webdriver.Chrome('/Users/joel/selenium_drivers/chromedriver 3')"
   ]
  },
  {
   "cell_type": "code",
   "execution_count": 349,
   "metadata": {
    "ExecuteTime": {
     "end_time": "2020-03-09T02:47:37.513427Z",
     "start_time": "2020-03-09T02:47:36.107243Z"
    }
   },
   "outputs": [],
   "source": [
    "driver.get('https://docs.google.com/spreadsheets/d/18oVRrHj3c183mHmq3m89_163yuYltLNlOmPerQ18E8w/htmlview?sle=true#')"
   ]
  },
  {
   "cell_type": "code",
   "execution_count": 350,
   "metadata": {
    "ExecuteTime": {
     "end_time": "2020-03-09T02:47:39.350572Z",
     "start_time": "2020-03-09T02:47:39.311177Z"
    }
   },
   "outputs": [],
   "source": [
    "table = driver.find_element_by_tag_name('tbody')\n",
    "\n",
    "rows = table.find_elements_by_tag_name('tr')\n",
    "\n",
    "len(rows)\n",
    "\n",
    "columns = rows[0].find_elements_by_tag_name('td')\n",
    "\n",
    "rows = rows[2:]"
   ]
  },
  {
   "cell_type": "code",
   "execution_count": 364,
   "metadata": {
    "ExecuteTime": {
     "end_time": "2020-03-09T02:55:41.668813Z",
     "start_time": "2020-03-09T02:55:38.282209Z"
    }
   },
   "outputs": [],
   "source": [
    "with open('coronavirus.json') as f:\n",
    "    data = json.load(f)\n",
    "    state = data['state']\n",
    "    current_date = rows[3].find_elements_by_tag_name('td')[0].text\n",
    "    if current_date in state['Date']:\n",
    "        df = pd.DataFrame(state)\n",
    "        df = df[df.Date != current_date]\n",
    "        \n",
    "        state['Date'] = df.Date.tolist()\n",
    "        state['State'] = df.State.tolist()\n",
    "        state['Positive'] = df.Positive.tolist()\n",
    "        state['Negative'] = df.Negative.tolist()\n",
    "        state['Pending'] = df.Pending.tolist()\n",
    "        state['Total'] = df.Total.tolist()\n",
    "        \n",
    "    for row in rows:\n",
    "        cells = row.find_elements_by_tag_name('td')\n",
    "\n",
    "        date = cells[0].text\n",
    "        state_= cells[1].text\n",
    "        positive = cells[2].text\n",
    "        negative = cells[3].text\n",
    "        pending = cells[4].text\n",
    "        total = cells[5].text\n",
    "\n",
    "        state['Date'].append(date)\n",
    "        state['State'].append(state_)\n",
    "        state['Positive'].append(positive)\n",
    "        state['Negative'].append(negative)\n",
    "        state['Pending'].append(pending)\n",
    "        state['Total'].append(total)\n",
    "\n",
    "with open('coronavirus.json', mode='w', encoding='utf-8') as f:\n",
    "    json.dump(data, f)"
   ]
  },
  {
   "cell_type": "code",
   "execution_count": 365,
   "metadata": {
    "ExecuteTime": {
     "end_time": "2020-03-09T02:55:46.510104Z",
     "start_time": "2020-03-09T02:55:46.506154Z"
    }
   },
   "outputs": [],
   "source": [
    "with open('coronavirus.json') as f:\n",
    "    data = json.load(f)\n",
    "    state = data['state']"
   ]
  },
  {
   "cell_type": "code",
   "execution_count": 366,
   "metadata": {
    "ExecuteTime": {
     "end_time": "2020-03-09T02:55:50.126878Z",
     "start_time": "2020-03-09T02:55:50.123906Z"
    }
   },
   "outputs": [],
   "source": [
    "import pandas as pd"
   ]
  },
  {
   "cell_type": "code",
   "execution_count": 367,
   "metadata": {
    "ExecuteTime": {
     "end_time": "2020-03-09T02:55:51.839580Z",
     "start_time": "2020-03-09T02:55:51.835276Z"
    }
   },
   "outputs": [],
   "source": [
    "df = pd.DataFrame(state)"
   ]
  },
  {
   "cell_type": "code",
   "execution_count": 368,
   "metadata": {
    "ExecuteTime": {
     "end_time": "2020-03-09T02:55:54.252283Z",
     "start_time": "2020-03-09T02:55:54.121711Z"
    }
   },
   "outputs": [],
   "source": [
    "df.Date = pd.to_datetime(df.Date)\n",
    "\n",
    "df.set_index('Date', drop=True, inplace = True)\n",
    "\n",
    "df = df.replace('', np.nan)\n",
    "\n",
    "columns = df.columns\n",
    "\n",
    "columns = columns.drop('State')\n",
    "\n",
    "for column in columns:\n",
    "    df[column] = df[column].astype(float)\n",
    "\n",
    "grouped = df.groupby(pd.Grouper(freq='D')).sum()\n",
    "\n",
    "collected = []\n",
    "for idx in grouped.index:\n",
    "    day = df[df.index == grouped.index[0]]\n",
    "    count = len(day[day.Positive > 0])\n",
    "    collected.append(count)\n",
    "\n",
    "collected\n",
    "\n",
    "grouped['state_count'] = collected\n"
   ]
  },
  {
   "cell_type": "code",
   "execution_count": 379,
   "metadata": {
    "ExecuteTime": {
     "end_time": "2020-03-09T02:59:23.608493Z",
     "start_time": "2020-03-09T02:59:23.600215Z"
    }
   },
   "outputs": [],
   "source": [
    "data['daily_summary']['Date'] = ['{}/{}/{}'.format(x.month,x.day, x.year) for x in grouped.index]\n",
    "data['daily_summary']['Positive'] = grouped.Positive.tolist()\n",
    "data['daily_summary']['Negative'] = grouped.Negative.tolist()\n",
    "data['daily_summary']['Pending'] = grouped.Pending.tolist()\n",
    "data['daily_summary']['Total'] = grouped.Total.tolist()\n",
    "data['daily_summary']['Confirmed States'] = grouped.state_count.tolist()\n",
    "\n",
    "with open('coronavirus.json', mode='w', encoding='utf-8') as f:\n",
    "    json.dump(data, f)"
   ]
  },
  {
   "cell_type": "code",
   "execution_count": 382,
   "metadata": {
    "ExecuteTime": {
     "end_time": "2020-03-09T03:00:35.177704Z",
     "start_time": "2020-03-09T03:00:35.042428Z"
    }
   },
   "outputs": [
    {
     "data": {
      "image/png": "[encoded data removed]",
      "text/plain": [
       "<Figure size 432x288 with 1 Axes>"
      ]
     },
     "metadata": {
      "needs_background": "light"
     },
     "output_type": "display_data"
    }
   ],
   "source": [
    "with open('coronavirus.json') as f:\n",
    "    plotting = json.load(f)\n",
    "\n",
    "plotting = pd.DataFrame(plotting['daily_summary'])\n",
    "\n",
    "plotting.set_index('Date', drop = True, inplace = True)\n",
    "\n",
    "xaxis = plotting.index\n",
    "\n",
    "plt.plot(xaxis, plotting.Positive.values, label = 'Positive')\n",
    "plt.title('Positive Test Results COVID-19');\n"
   ]
  }
 ],
 "metadata": {
  "hide_input": false,
  "kernelspec": {
   "display_name": "Python 3",
   "language": "python",
   "name": "python3"
  },
  "language_info": {
   "codemirror_mode": {
    "name": "ipython",
    "version": 3
   },
   "file_extension": ".py",
   "mimetype": "text/x-python",
   "name": "python",
   "nbconvert_exporter": "python",
   "pygments_lexer": "ipython3",
   "version": "3.7.3"
  },
  "toc": {
   "base_numbering": 1,
   "nav_menu": {},
   "number_sections": false,
   "sideBar": true,
   "skip_h1_title": true,
   "title_cell": "Table of Contents",
   "title_sidebar": "Contents",
   "toc_cell": false,
   "toc_position": {},
   "toc_section_display": true,
   "toc_window_display": false
  },
  "varInspector": {
   "cols": {
    "lenName": 16,
    "lenType": 16,
    "lenVar": 40
   },
   "kernels_config": {
    "python": {
     "delete_cmd_postfix": "",
     "delete_cmd_prefix": "del ",
     "library": "var_list.py",
     "varRefreshCmd": "print(var_dic_list())"
    },
    "r": {
     "delete_cmd_postfix": ") ",
     "delete_cmd_prefix": "rm(",
     "library": "var_list.r",
     "varRefreshCmd": "cat(var_dic_list()) "
    }
   },
   "types_to_exclude": [
    "module",
    "function",
    "builtin_function_or_method",
    "instance",
    "_Feature"
   ],
   "window_display": false
  }
 },
 "nbformat": 4,
 "nbformat_minor": 2
}
